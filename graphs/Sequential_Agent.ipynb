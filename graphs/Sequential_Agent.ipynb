{
 "cells": [
  {
   "cell_type": "code",
   "execution_count": 16,
   "id": "611fd5a0",
   "metadata": {},
   "outputs": [],
   "source": [
    "from typing import TypedDict, List\n",
    "from langgraph.graph import StateGraph"
   ]
  },
  {
   "cell_type": "code",
   "execution_count": 10,
   "id": "9507d87b",
   "metadata": {},
   "outputs": [],
   "source": [
    "class AgentState(TypedDict):\n",
    "    \"\"\"\n",
    "    Represents the state of the agent.\n",
    "    \"\"\"\n",
    "    name: str\n",
    "    age: str\n",
    "    final: str"
   ]
  },
  {
   "cell_type": "code",
   "execution_count": 11,
   "id": "3af2b8ef",
   "metadata": {},
   "outputs": [],
   "source": [
    "def first_node(state: AgentState) -> AgentState:\n",
    "    \"\"\"This is the first node in our sequence.\"\"\"\n",
    "\n",
    "    state['final'] = f\"Hi {state['name']}!\"\n",
    "    return state\n",
    "\n",
    "def second_node(state: AgentState) -> AgentState:\n",
    "    \"\"\"This is the second node in our sequence.\"\"\"\n",
    "\n",
    "    state['final'] = state['final'] + f\" You are {state['age']} years old!\"\n",
    "    return state"
   ]
  },
  {
   "cell_type": "code",
   "execution_count": 12,
   "id": "c9124c9c",
   "metadata": {},
   "outputs": [],
   "source": [
    "graph = StateGraph(AgentState)\n",
    "\n",
    "graph.add_node(\"first\", first_node)\n",
    "graph.add_node(\"second\", second_node)\n",
    "\n",
    "graph.set_entry_point(\"first\")\n",
    "graph.add_edge(\"first\", \"second\")\n",
    "graph.set_finish_point(\"second\")\n",
    "\n",
    "answer = graph.compile()"
   ]
  },
  {
   "cell_type": "code",
   "execution_count": 13,
   "id": "9b980e45",
   "metadata": {},
   "outputs": [
    {
     "data": {
      "image/png": "[encoded data removed]",
      "text/plain": [
       "<IPython.core.display.Image object>"
      ]
     },
     "metadata": {},
     "output_type": "display_data"
    }
   ],
   "source": [
    "from IPython.display import display, Image\n",
    "\n",
    "display(Image(answer.get_graph().draw_mermaid_png()))"
   ]
  },
  {
   "cell_type": "code",
   "execution_count": 14,
   "id": "f14dd4a0",
   "metadata": {},
   "outputs": [
    {
     "name": "stdout",
     "output_type": "stream",
     "text": [
      "{'name': 'Charlie', 'age': '30', 'final': 'Hi Charlie! You are 30 years old!'}\n"
     ]
    }
   ],
   "source": [
    "result = answer.invoke({\"name\": \"Charlie\", \"age\": \"30\"})\n",
    "print(result)"
   ]
  },
  {
   "cell_type": "markdown",
   "id": "dbba4330",
   "metadata": {},
   "source": [
    "# Exercise"
   ]
  },
  {
   "cell_type": "code",
   "execution_count": 17,
   "id": "2367f8e7",
   "metadata": {},
   "outputs": [],
   "source": [
    "class AgentState2(TypedDict):\n",
    "    \"\"\"\n",
    "    Represents the state of the agent\n",
    "    \"\"\"\n",
    "    name: str\n",
    "    age: str\n",
    "    final: str\n",
    "    skills: List[str]"
   ]
  },
  {
   "cell_type": "code",
   "execution_count": 18,
   "id": "2ffbf0d9",
   "metadata": {},
   "outputs": [],
   "source": [
    "def node1(state: AgentState2) -> AgentState2:\n",
    "    \"\"\"This is the first node in our sequence.\"\"\"\n",
    "\n",
    "    state['final'] = f\"Hi {state['name']}, welcome to the system!\"\n",
    "    return state\n",
    "\n",
    "def node2(state: AgentState2) -> AgentState2:\n",
    "    \"\"\"This is the second node in our sequence.\"\"\"\n",
    "\n",
    "    state['final'] = state['final'] + f\" You are {state['age']} years old!\"\n",
    "    return state\n",
    "\n",
    "def node3(state: AgentState2) -> AgentState2:\n",
    "    \"\"\"This is the third node in our sequence.\"\"\"\n",
    "\n",
    "    state['final'] = state['final'] + f\" Your skills are: {', '.join(state['skills'])}.\"\n",
    "    return state"
   ]
  },
  {
   "cell_type": "code",
   "execution_count": 19,
   "id": "87be13da",
   "metadata": {},
   "outputs": [],
   "source": [
    "graph2 = StateGraph(AgentState2)\n",
    "\n",
    "graph2.add_node(\"node1\", node1)\n",
    "graph2.add_node(\"node2\", node2)\n",
    "graph2.add_node(\"node3\", node3)\n",
    "\n",
    "graph2.set_entry_point(\"node1\")\n",
    "graph2.add_edge(\"node1\", \"node2\")\n",
    "graph2.add_edge(\"node2\", \"node3\")\n",
    "graph2.set_finish_point(\"node3\")\n",
    "\n",
    "answer2 = graph2.compile()"
   ]
  },
  {
   "cell_type": "code",
   "execution_count": 20,
   "id": "1f032566",
   "metadata": {},
   "outputs": [
    {
     "data": {
      "image/png": "[encoded data removed]",
      "text/plain": [
       "<IPython.core.display.Image object>"
      ]
     },
     "metadata": {},
     "output_type": "display_data"
    }
   ],
   "source": [
    "display(Image(answer2.get_graph().draw_mermaid_png()))"
   ]
  },
  {
   "cell_type": "code",
   "execution_count": 21,
   "id": "1f06e69e",
   "metadata": {},
   "outputs": [
    {
     "name": "stdout",
     "output_type": "stream",
     "text": [
      "{'name': 'Charlie', 'age': '30', 'final': 'Hi Charlie, welcome to the system! You are 30 years old! Your skills are: Python, Data Analysis, Machine Learning.', 'skills': ['Python', 'Data Analysis', 'Machine Learning']}\n"
     ]
    }
   ],
   "source": [
    "result2 = answer2.invoke({\n",
    "    \"name\": \"Charlie\",\n",
    "    \"age\": \"30\",\n",
    "    \"skills\": [\"Python\", \"Data Analysis\", \"Machine Learning\"]\n",
    "})\n",
    "print(result2)"
   ]
  }
 ],
 "metadata": {
  "kernelspec": {
   "display_name": "myenv",
   "language": "python",
   "name": "python3"
  },
  "language_info": {
   "codemirror_mode": {
    "name": "ipython",
    "version": 3
   },
   "file_extension": ".py",
   "mimetype": "text/x-python",
   "name": "python",
   "nbconvert_exporter": "python",
   "pygments_lexer": "ipython3",
   "version": "3.10.12"
  }
 },
 "nbformat": 4,
 "nbformat_minor": 5
}
