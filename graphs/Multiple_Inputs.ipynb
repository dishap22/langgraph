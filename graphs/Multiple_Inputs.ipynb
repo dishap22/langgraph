{
 "cells": [
  {
   "cell_type": "code",
   "execution_count": 13,
   "id": "8755d964",
   "metadata": {},
   "outputs": [],
   "source": [
    "from typing import TypedDict, List\n",
    "from langgraph.graph import StateGraph"
   ]
  },
  {
   "cell_type": "code",
   "execution_count": 14,
   "id": "cc19fe5d",
   "metadata": {},
   "outputs": [],
   "source": [
    "class AgentState(TypedDict):\n",
    "    values: List[int]\n",
    "    name: str\n",
    "    result: str"
   ]
  },
  {
   "cell_type": "code",
   "execution_count": 15,
   "id": "f83ecb23",
   "metadata": {},
   "outputs": [],
   "source": [
    "def process_values(state: AgentState) -> AgentState:\n",
    "    \"\"\" This function handles multiple different inputs \"\"\"\n",
    "\n",
    "    state['result'] = f\"Hi there {state['name']}! Your sum: {sum(state['values'])}\"\n",
    "    return state"
   ]
  },
  {
   "cell_type": "code",
   "execution_count": 16,
   "id": "09ee3c55",
   "metadata": {},
   "outputs": [],
   "source": [
    "graph = StateGraph(AgentState)\n",
    "\n",
    "graph.add_node(\"processor\", process_values)\n",
    "\n",
    "graph.set_entry_point(\"processor\")\n",
    "graph.set_finish_point(\"processor\")\n",
    "\n",
    "app = graph.compile()"
   ]
  },
  {
   "cell_type": "code",
   "execution_count": 17,
   "id": "941f5b7b",
   "metadata": {},
   "outputs": [
    {
     "data": {
      "image/png": "[encoded data removed]",
      "text/plain": [
       "<IPython.core.display.Image object>"
      ]
     },
     "metadata": {},
     "output_type": "display_data"
    }
   ],
   "source": [
    "from IPython.display import display, Image\n",
    "display(Image(app.get_graph().draw_mermaid_png()))"
   ]
  },
  {
   "cell_type": "code",
   "execution_count": 19,
   "id": "f4f5766c",
   "metadata": {},
   "outputs": [
    {
     "name": "stdout",
     "output_type": "stream",
     "text": [
      "{'values': [1, 2, 3], 'name': 'Alice', 'result': 'Hi there Alice! Your sum: 6'}\n",
      "Hi there Alice! Your sum: 6\n"
     ]
    }
   ],
   "source": [
    "answers = app.invoke({\"values\": [1, 2, 3], \"name\": \"Alice\"})\n",
    "print(answers)\n",
    "print(answers['result'])"
   ]
  },
  {
   "cell_type": "markdown",
   "id": "f26ad118",
   "metadata": {},
   "source": [
    "# Exercises"
   ]
  },
  {
   "cell_type": "code",
   "execution_count": 20,
   "id": "a88670ea",
   "metadata": {},
   "outputs": [],
   "source": [
    "class AgentState2(TypedDict):\n",
    "    values: List[int]\n",
    "    name: str\n",
    "    result: str\n",
    "    operation: str"
   ]
  },
  {
   "cell_type": "code",
   "execution_count": 21,
   "id": "014f8caf",
   "metadata": {},
   "outputs": [],
   "source": [
    "from math import prod\n",
    "\n",
    "def calculate_value(state: AgentState2) -> AgentState2:\n",
    "    \"\"\" This function calculates a value based on the input state \"\"\"\n",
    "    if state['operation'] == '+':\n",
    "        state['result'] = f\"Hello {state['name']}! Your calculated value: {sum(state['values'])}\"\n",
    "    elif state['operation'] == '*':\n",
    "        state['result'] = f\"Hello {state['name']}! Your calculated value: {prod(state['values'])}\"\n",
    "    return state"
   ]
  },
  {
   "cell_type": "code",
   "execution_count": 22,
   "id": "c9d33640",
   "metadata": {},
   "outputs": [],
   "source": [
    "graph2 = StateGraph(AgentState2)\n",
    "\n",
    "graph2.add_node(\"calculator\", calculate_value)\n",
    "\n",
    "graph2.set_entry_point(\"calculator\")\n",
    "graph2.set_finish_point(\"calculator\")\n",
    "\n",
    "app2 = graph2.compile()"
   ]
  },
  {
   "cell_type": "code",
   "execution_count": 23,
   "id": "6817624c",
   "metadata": {},
   "outputs": [
    {
     "data": {
      "image/png": "[encoded data removed]",
      "text/plain": [
       "<IPython.core.display.Image object>"
      ]
     },
     "metadata": {},
     "output_type": "display_data"
    }
   ],
   "source": [
    "display(Image(app2.get_graph().draw_mermaid_png()))"
   ]
  },
  {
   "cell_type": "code",
   "execution_count": 26,
   "id": "aad18afd",
   "metadata": {},
   "outputs": [
    {
     "name": "stdout",
     "output_type": "stream",
     "text": [
      "{'values': [1, 2, 3, 4], 'name': 'Bob', 'result': 'Hello Bob! Your calculated value: 10', 'operation': '+'}\n",
      "Hello Bob! Your calculated value: 10\n",
      "{'values': [1, 2, 3, 4], 'name': 'Bob', 'result': 'Hello Bob! Your calculated value: 24', 'operation': '*'}\n",
      "Hello Bob! Your calculated value: 24\n"
     ]
    }
   ],
   "source": [
    "answers2 = app2.invoke({\"values\": [1, 2, 3, 4], \"name\": \"Bob\", \"operation\": \"+\"})\n",
    "print(answers2)\n",
    "print(answers2['result'])\n",
    "\n",
    "answers2 = app2.invoke({\"values\": [1, 2, 3, 4], \"name\": \"Bob\", \"operation\": \"*\"})\n",
    "print(answers2)\n",
    "print(answers2['result'])"
   ]
  }
 ],
 "metadata": {
  "kernelspec": {
   "display_name": "myenv",
   "language": "python",
   "name": "python3"
  },
  "language_info": {
   "codemirror_mode": {
    "name": "ipython",
    "version": 3
   },
   "file_extension": ".py",
   "mimetype": "text/x-python",
   "name": "python",
   "nbconvert_exporter": "python",
   "pygments_lexer": "ipython3",
   "version": "3.10.12"
  }
 },
 "nbformat": 4,
 "nbformat_minor": 5
}
